{
 "cells": [
  {
   "cell_type": "markdown",
   "metadata": {},
   "source": [
    "# Meeting\n",
    "* Members skills presentation\n",
    "## What area is covered by sugar cane?\n",
    "* Clouds? -- SCL help (1 person)\n",
    "* Preprocessing \n",
    "* Clustering\n",
    "   + [Overview different algorithms](https://scikit-learn.org/stable/auto_examples/cluster/plot_cluster_comparison.html)\n",
    "   + [Performance evaluation](https://stats.stackexchange.com/questions/21807/evaluation-measures-of-goodness-or-validity-of-clustering-without-having-truth)\n",
    "   + Performance in literature\n",
    "* Time-depending ideas?\n",
    "* OpenCv (1 person)\n",
    "* Another approach?\n",
    "* Expert (1 person)\n",
    "* Time Series? (can be the expert)"
   ]
  },
  {
   "cell_type": "code",
   "execution_count": 2,
   "metadata": {},
   "outputs": [
    {
     "data": {
      "text/plain": [
       "<xarray.Dataset>\n",
       "Dimensions:      (band: 10, date: 26, x: 994, y: 940)\n",
       "Coordinates:\n",
       "  * band         (band) object 'B02' 'B03' 'B04' 'B05' ... 'B8A' 'B11' 'B12'\n",
       "  * date         (date) datetime64[ns] 2016-12-18 2017-02-16 ... 2019-01-22\n",
       "Dimensions without coordinates: x, y\n",
       "Data variables:\n",
       "    reflectance  (y, x, band, date) uint16 ...\n",
       "    mask         (y, x) bool ...\n",
       "    SCL          (y, x, date) uint16 ...\n",
       "Attributes:\n",
       "    transform:  [ 1.0000e+01  0.0000e+00  3.3092e+05  0.0000e+00 -1.0000e+01 ...\n",
       "    crs:        +init=epsg:32618"
      ]
     },
     "execution_count": 2,
     "metadata": {},
     "output_type": "execute_result"
    }
   ],
   "source": [
    "import os\n",
    "import subprocess\n",
    "import pandas as pd\n",
    "import numpy as np\n",
    "import matplotlib.pyplot as plt\n",
    "import sklearn\n",
    "import xarray\n",
    "import datetime\n",
    "\n",
    "# read in the sentinel 2 data\n",
    "s2_data = xarray.open_dataset('cali_training.nc')\n",
    "s2_data"
   ]
  },
  {
   "cell_type": "code",
   "execution_count": 28,
   "metadata": {},
   "outputs": [],
   "source": [
    "def create_dataset(obj, d):\n",
    "    w, h = s2_data.reflectance.isel(date=0, band=0).values.shape\n",
    "    l, = s2_data.band.values.shape\n",
    "    return np.concatenate([obj.isel(date=d, band=b).values.reshape(w, h, 1) for b in range(l)], axis=-1)"
   ]
  },
  {
   "cell_type": "code",
   "execution_count": 32,
   "metadata": {},
   "outputs": [],
   "source": [
    "X_refl_0 = create_dataset(s2_data.reflectance, 0)/10000"
   ]
  },
  {
   "cell_type": "code",
   "execution_count": null,
   "metadata": {},
   "outputs": [],
   "source": []
  }
 ],
 "metadata": {
  "kernelspec": {
   "display_name": "Python 3",
   "language": "python",
   "name": "python3"
  },
  "language_info": {
   "codemirror_mode": {
    "name": "ipython",
    "version": 3
   },
   "file_extension": ".py",
   "mimetype": "text/x-python",
   "name": "python",
   "nbconvert_exporter": "python",
   "pygments_lexer": "ipython3",
   "version": "3.6.8"
  }
 },
 "nbformat": 4,
 "nbformat_minor": 2
}
