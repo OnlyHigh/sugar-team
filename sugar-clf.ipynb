{
 "cells": [
  {
   "cell_type": "markdown",
   "metadata": {},
   "source": [
    "# Meeting\n",
    "* Members skills presentation\n",
    "## What area is covered by sugar cane?\n",
    "* Clouds? -- SCL help (1 person)\n",
    "* Preprocessing\n",
    "* Clustering\n",
    "   + [Overview different algorithms](https://scikit-learn.org/stable/auto_examples/cluster/plot_cluster_comparison.html)\n",
    "   + [Performance evaluation](https://stats.stackexchange.com/questions/21807/evaluation-measures-of-goodness-or-validity-of-clustering-without-having-truth)\n",
    "   + Performance in literature\n",
    "* Time-depending ideas?\n",
    "* Another approach?\n",
    "* Expert (1 person)\n",
    "* Time Series? (can be the expert)"
   ]
  },
  {
   "cell_type": "code",
   "execution_count": 19,
   "metadata": {},
   "outputs": [],
   "source": [
    "import os\n",
    "import subprocess\n",
    "import pandas as pd\n",
    "import numpy as np\n",
    "import matplotlib.pyplot as plt\n",
    "import sklearn\n",
    "import xarray\n",
    "import datetime"
   ]
  },
  {
   "cell_type": "code",
   "execution_count": 2,
   "metadata": {},
   "outputs": [
    {
     "data": {
      "text/plain": [
       "<xarray.Dataset>\n",
       "Dimensions:      (band: 10, date: 26, x: 994, y: 940)\n",
       "Coordinates:\n",
       "  * band         (band) object 'B02' 'B03' 'B04' 'B05' ... 'B8A' 'B11' 'B12'\n",
       "  * date         (date) datetime64[ns] 2016-12-18 2017-02-16 ... 2019-01-22\n",
       "Dimensions without coordinates: x, y\n",
       "Data variables:\n",
       "    reflectance  (y, x, band, date) uint16 ...\n",
       "    mask         (y, x) bool ...\n",
       "    SCL          (y, x, date) uint16 ...\n",
       "Attributes:\n",
       "    transform:  [ 1.0000e+01  0.0000e+00  3.3092e+05  0.0000e+00 -1.0000e+01 ...\n",
       "    crs:        +init=epsg:32618"
      ]
     },
     "execution_count": 2,
     "metadata": {},
     "output_type": "execute_result"
    }
   ],
   "source": [
    "# read in the sentinel 2 data\n",
    "s2_data = xarray.open_dataset('cali_training.nc')\n",
    "s2_data"
   ]
  },
  {
   "cell_type": "code",
   "execution_count": 25,
   "metadata": {},
   "outputs": [],
   "source": [
    "band_dict = {k: v for v,k in enumerate(s2_data.band.values)}\n",
    "date_dict = {str(k)[:10]: v for v,k in enumerate(s2_data.date.values)}"
   ]
  },
  {
   "cell_type": "code",
   "execution_count": 34,
   "metadata": {},
   "outputs": [],
   "source": [
    "w, h = s2_data.reflectance.isel(date=0, band=0).values.shape\n",
    "\n",
    "def create_dataset(obj, d):\n",
    "    l, = s2_data.band.values.shape\n",
    "    return np.concatenate([obj.isel(date=d, band=b).values.reshape(w, h, 1) for b in range(l)], axis=-1)"
   ]
  },
  {
   "cell_type": "code",
   "execution_count": 35,
   "metadata": {},
   "outputs": [],
   "source": [
    "def add_feature(X, fea, ax=2):\n",
    "    return np.concatenate((X, fea), axis=ax)"
   ]
  },
  {
   "cell_type": "code",
   "execution_count": 36,
   "metadata": {},
   "outputs": [],
   "source": [
    "X_refl_0 = create_dataset(s2_data.reflectance, 0)/10000"
   ]
  },
  {
   "cell_type": "code",
   "execution_count": 38,
   "metadata": {},
   "outputs": [
    {
     "data": {
      "text/plain": [
       "array([[[0.039     , 0.0667    , 0.0458    , ..., 0.2364    ,\n",
       "         0.1192    , 0.75229854],\n",
       "        [0.0379    , 0.0649    , 0.039     , ..., 0.2411    ,\n",
       "         0.125     , 0.79639781],\n",
       "        [0.0392    , 0.0645    , 0.0429    , ..., 0.2502    ,\n",
       "         0.1353    , 0.79027133],\n",
       "        ...,\n",
       "        [0.0426    , 0.0698    , 0.0514    , ..., 0.1665    ,\n",
       "         0.0756    , 0.70803749],\n",
       "        [0.0419    , 0.068     , 0.0501    , ..., 0.1492    ,\n",
       "         0.0641    , 0.71702909],\n",
       "        [0.0417    , 0.0674    , 0.0479    , ..., 0.1419    ,\n",
       "         0.0595    , 0.73307328]],\n",
       "\n",
       "       [[0.0395    , 0.0673    , 0.049     , ..., 0.2459    ,\n",
       "         0.1312    , 0.71353405],\n",
       "        [0.041     , 0.0661    , 0.045     , ..., 0.2545    ,\n",
       "         0.1415    , 0.74761638],\n",
       "        [0.044     , 0.0709    , 0.0544    , ..., 0.27      ,\n",
       "         0.1592    , 0.7174026 ],\n",
       "        ...,\n",
       "        [0.0415    , 0.0652    , 0.0474    , ..., 0.1645    ,\n",
       "         0.0728    , 0.73355818],\n",
       "        [0.0403    , 0.067     , 0.047     , ..., 0.146     ,\n",
       "         0.0609    , 0.7396843 ],\n",
       "        [0.0407    , 0.0658    , 0.0452    , ..., 0.1379    ,\n",
       "         0.0561    , 0.74811925]],\n",
       "\n",
       "       [[0.0399    , 0.0654    , 0.0442    , ..., 0.2606    ,\n",
       "         0.1497    , 0.74347069],\n",
       "        [0.0418    , 0.0676    , 0.0605    , ..., 0.2751    ,\n",
       "         0.1666    , 0.6527977 ],\n",
       "        [0.0591    , 0.0834    , 0.0881    , ..., 0.3016    ,\n",
       "         0.1963    , 0.50932888],\n",
       "        ...,\n",
       "        [0.0391    , 0.0643    , 0.0416    , ..., 0.1614    ,\n",
       "         0.0693    , 0.77807415],\n",
       "        [0.039     , 0.0631    , 0.0424    , ..., 0.141     ,\n",
       "         0.0565    , 0.773746  ],\n",
       "        [0.0382    , 0.0649    , 0.0424    , ..., 0.1316    ,\n",
       "         0.0512    , 0.77308001]],\n",
       "\n",
       "       ...,\n",
       "\n",
       "       [[0.0348    , 0.0604    , 0.0405    , ..., 0.1517    ,\n",
       "         0.0708    , 0.76120283],\n",
       "        [0.0353    , 0.0543    , 0.0329    , ..., 0.1469    ,\n",
       "         0.0672    , 0.81037464],\n",
       "        [0.0354    , 0.0552    , 0.0334    , ..., 0.1404    ,\n",
       "         0.0624    , 0.80271707],\n",
       "        ...,\n",
       "        [0.0386    , 0.0615    , 0.0388    , ..., 0.1233    ,\n",
       "         0.0515    , 0.79416446],\n",
       "        [0.038     , 0.0633    , 0.0385    , ..., 0.1258    ,\n",
       "         0.0543    , 0.79570178],\n",
       "        [0.0373    , 0.0629    , 0.038     , ..., 0.1274    ,\n",
       "         0.0559    , 0.79846195]],\n",
       "\n",
       "       [[0.0381    , 0.0611    , 0.0409    , ..., 0.1491    ,\n",
       "         0.0718    , 0.75383689],\n",
       "        [0.0323    , 0.0517    , 0.0314    , ..., 0.1448    ,\n",
       "         0.0665    , 0.82128628],\n",
       "        [0.0362    , 0.0542    , 0.0334    , ..., 0.1388    ,\n",
       "         0.0592    , 0.80575749],\n",
       "        ...,\n",
       "        [0.037     , 0.0599    , 0.0376    , ..., 0.1231    ,\n",
       "         0.0505    , 0.80137348],\n",
       "        [0.0337    , 0.0602    , 0.0379    , ..., 0.1245    ,\n",
       "         0.0526    , 0.79962992],\n",
       "        [0.0351    , 0.0626    , 0.0367    , ..., 0.1255    ,\n",
       "         0.054     , 0.80638354]],\n",
       "\n",
       "       [[0.0381    , 0.0594    , 0.0425    , ..., 0.1475    ,\n",
       "         0.0719    , 0.73870274],\n",
       "        [0.0295    , 0.0505    , 0.0322    , ..., 0.1437    ,\n",
       "         0.0659    , 0.81720125],\n",
       "        [0.0322    , 0.0552    , 0.034     , ..., 0.1381    ,\n",
       "         0.0577    , 0.80882766],\n",
       "        ...,\n",
       "        [0.0378    , 0.0614    , 0.0373    , ..., 0.1231    ,\n",
       "         0.05      , 0.80445609],\n",
       "        [0.0372    , 0.0594    , 0.0375    , ..., 0.1236    ,\n",
       "         0.0516    , 0.80226733],\n",
       "        [0.0387    , 0.0611    , 0.0376    , ..., 0.124     ,\n",
       "         0.0526    , 0.80513086]]])"
      ]
     },
     "execution_count": 38,
     "metadata": {},
     "output_type": "execute_result"
    }
   ],
   "source": [
    "r = X_refl_0[:,:,band_dict['B04']] \n",
    "ir = X_refl_0[:,:,band_dict['B08']]\n",
    "add_feature(X_refl_0, ((ir-r)/(ir+r)).reshape(w, h, 1))"
   ]
  },
  {
   "cell_type": "code",
   "execution_count": null,
   "metadata": {},
   "outputs": [],
   "source": []
  }
 ],
 "metadata": {
  "kernelspec": {
   "display_name": "Python 3",
   "language": "python",
   "name": "python3"
  },
  "language_info": {
   "codemirror_mode": {
    "name": "ipython",
    "version": 3
   },
   "file_extension": ".py",
   "mimetype": "text/x-python",
   "name": "python",
   "nbconvert_exporter": "python",
   "pygments_lexer": "ipython3",
   "version": "3.6.8"
  }
 },
 "nbformat": 4,
 "nbformat_minor": 2
}
